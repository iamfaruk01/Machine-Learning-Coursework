{
  "cells": [
    {
      "cell_type": "code",
      "execution_count": 4,
      "metadata": {
        "id": "XYwz0mWqY2Je"
      },
      "outputs": [],
      "source": [
        "# Import libraries\n",
        "import torch\n",
        "import torch.nn as nn\n",
        "import torch.optim as optim\n",
        "import torchvision\n",
        "import torchvision.transforms as transforms\n",
        "import matplotlib.pyplot as plt\n",
        "import numpy as np"
      ]
    },
    {
      "cell_type": "markdown",
      "metadata": {},
      "source": [
        "### Import Libraries\n",
        "\n",
        "- **PyTorch (`torch`)**: Core deep learning library for building and training neural networks.  \n",
        "- **`torch.nn`**: Provides neural network layers, loss functions, and activation functions.  \n",
        "- **`torch.optim`**: Contains optimization algorithms like Adam, SGD, etc.  \n",
        "- **`torchvision`**: Provides popular datasets (like MNIST, CIFAR-10), pre-trained models, and image transformations.  \n",
        "- **`torchvision.transforms`**: Utilities for preprocessing and augmenting images (e.g., normalization, resizing).  \n",
        "- **`matplotlib.pyplot`**: For data visualization and plotting images.  \n",
        "- **NumPy (`np`)**: For numerical computations and handling arrays.  \n"
      ]
    },
    {
      "cell_type": "code",
      "execution_count": 5,
      "metadata": {
        "colab": {
          "base_uri": "https://localhost:8080/"
        },
        "id": "RYur49wiZAUu",
        "outputId": "3f906af1-d98a-4f56-c74a-0bbef48a1d70"
      },
      "outputs": [],
      "source": [
        "# Load dataset (MNIST) with normalization\n",
        "transform = transforms.Compose([transforms.ToTensor(), transforms.Normalize((0.5,), (0.5,))])\n",
        "\n",
        "train_dataset = torchvision.datasets.MNIST(root='./data', train=True, download=True, transform=transform)\n",
        "test_dataset = torchvision.datasets.MNIST(root='./data', train=False, download=True, transform=transform)\n",
        "\n",
        "train_loader = torch.utils.data.DataLoader(train_dataset, batch_size=64, shuffle=True)\n",
        "test_loader = torch.utils.data.DataLoader(test_dataset, batch_size=64, shuffle=False)"
      ]
    },
    {
      "cell_type": "markdown",
      "metadata": {},
      "source": [
        "### Load Dataset (MNIST) with Normalization  \n",
        "\n",
        "- **MNIST dataset**: A classic dataset of 70,000 handwritten digits (28x28 grayscale images).  \n",
        "  - 60,000 training images  \n",
        "  - 10,000 test images  \n",
        "\n",
        "- **Transformations**:  \n",
        "  - `transforms.ToTensor()` → Converts images into PyTorch tensors (values scaled between 0 and 1).  \n",
        "  - `transforms.Normalize((0.5,), (0.5,))` → Normalizes pixel values to the range [-1, 1] for better training performance.  \n",
        "\n",
        "- **`train_dataset` / `test_dataset`**:  \n",
        "  - Downloads and prepares MNIST dataset.  \n",
        "  - Applies the defined transformations (convert to tensor + normalize).  \n",
        "\n",
        "- **DataLoader**:  \n",
        "  - `train_loader`: Provides mini-batches of size 64, shuffling data each epoch.  \n",
        "  - `test_loader`: Provides mini-batches of size 64 without shuffling (for consistent evaluation).  \n"
      ]
    },
    {
      "cell_type": "code",
      "execution_count": 6,
      "metadata": {
        "colab": {
          "base_uri": "https://localhost:8080/"
        },
        "id": "QpdJGoJ_ZHsu",
        "outputId": "0678352a-96cd-4f77-824a-1070676b0fe6"
      },
      "outputs": [
        {
          "name": "stdout",
          "output_type": "stream",
          "text": [
            "Training set size: 60000\n",
            "Test set size: 10000\n"
          ]
        }
      ],
      "source": [
        "# Check dataset size\n",
        "print(\"Training set size:\", len(train_dataset))\n",
        "print(\"Test set size:\", len(test_dataset))\n"
      ]
    },
    {
      "cell_type": "markdown",
      "metadata": {},
      "source": [
        "### Check Dataset Size  \n",
        "\n",
        "- `len(train_dataset)` → Returns the number of training samples (expected: **60,000**).  \n",
        "- `len(test_dataset)` → Returns the number of test samples (expected: **10,000**).  \n",
        "\n",
        "This confirms the dataset has been loaded correctly and split into training and testing sets.  \n"
      ]
    },
    {
      "cell_type": "code",
      "execution_count": 4,
      "metadata": {
        "colab": {
          "base_uri": "https://localhost:8080/",
          "height": 459
        },
        "id": "fi8tnbJlZLAH",
        "outputId": "83ec1b3d-2c8c-4ddd-8a0e-d45212fd806e"
      },
      "outputs": [
        {
          "data": {
            "image/png": "[encoded data removed]",
            "text/plain": [
              "<Figure size 480x480 with 1 Axes>"
            ]
          },
          "metadata": {},
          "output_type": "display_data"
        }
      ],
      "source": [
        "# Display the first training image\n",
        "images, labels = next(iter(train_loader))\n",
        "plt.matshow(images[0][0])\n",
        "plt.title(f\"Label: {labels[0].item()}\")\n",
        "plt.show()\n"
      ]
    },
    {
      "cell_type": "markdown",
      "metadata": {},
      "source": [
        "### Display the First Training Image  \n",
        "\n",
        "- `next(iter(train_loader))` → Retrieves one batch of images and labels from the training set.  \n",
        "  - `images` → A batch of 64 images (shape: `[64, 1, 28, 28]`).  \n",
        "  - `labels` → Corresponding digit labels for the batch.  \n",
        "\n",
        "- `images[0][0]` → Selects the first image in the batch and removes the channel dimension to display it as a 28×28 matrix.  \n",
        "\n",
        "- `plt.matshow(...)` → Plots the image in grayscale (the handwritten digit).  \n",
        "- `plt.title(...)` → Displays the true label of the image as the plot title.  \n"
      ]
    },
    {
      "cell_type": "code",
      "execution_count": 8,
      "metadata": {
        "id": "EFFq9OhkZM2o"
      },
      "outputs": [],
      "source": [
        "# Define Neural Network model\n",
        "class NeuralNet(nn.Module):\n",
        "    def __init__(self):\n",
        "        super(NeuralNet, self).__init__()\n",
        "        self.flatten = nn.Flatten()\n",
        "        self.fc1 = nn.Linear(28*28, 100)\n",
        "        self.relu = nn.ReLU()\n",
        "        self.fc2 = nn.Linear(100, 10)\n",
        "\n",
        "    def forward(self, x):\n",
        "        x = self.flatten(x)\n",
        "        x = self.fc1(x)\n",
        "        x = self.relu(x)\n",
        "        x = self.fc2(x)\n",
        "        return x  # logits\n",
        "\n",
        "model = NeuralNet()\n"
      ]
    },
    {
      "cell_type": "markdown",
      "metadata": {},
      "source": [
        "### Define Neural Network Model  \n",
        "\n",
        "- **Flatten**: Converts each 28×28 image into a 784-element vector.  \n",
        "- **Linear(784 → 100) + ReLU**: Fully connected hidden layer with 100 units and ReLU activation.  \n",
        "- **Linear(100 → 10)**: Output layer with 10 logits (one per digit class).  \n",
        "- **Forward pass**: Defines how data flows through layers.  \n"
      ]
    },
    {
      "cell_type": "code",
      "execution_count": 9,
      "metadata": {
        "id": "yeSaTiAvZOn4"
      },
      "outputs": [],
      "source": [
        "# Loss function and optimizer\n",
        "criterion = nn.CrossEntropyLoss()   # CrossEntropy = Softmax + NLLLoss\n",
        "optimizer = optim.Adam(model.parameters(), lr=0.001)\n"
      ]
    },
    {
      "cell_type": "markdown",
      "metadata": {},
      "source": [
        "### Loss Function and Optimizer  \n",
        "\n",
        "- **CrossEntropyLoss**: Combines Softmax + Negative Log-Likelihood, suitable for multi-class classification.  \n",
        "- **Adam Optimizer**: Adaptive learning rate optimizer, updates model weights efficiently.  \n"
      ]
    },
    {
      "cell_type": "code",
      "execution_count": 10,
      "metadata": {
        "colab": {
          "base_uri": "https://localhost:8080/"
        },
        "id": "daSdCPWbZQgv",
        "outputId": "cb2438b7-ee22-4968-8442-e57ead197b65"
      },
      "outputs": [
        {
          "name": "stdout",
          "output_type": "stream",
          "text": [
            "Epoch [1/5], Loss: 0.3229\n",
            "Epoch [2/5], Loss: 0.0919\n",
            "Epoch [3/5], Loss: 0.2641\n",
            "Epoch [4/5], Loss: 0.0575\n",
            "Epoch [5/5], Loss: 0.1247\n"
          ]
        }
      ],
      "source": [
        "# Train the model\n",
        "epochs = 5\n",
        "for epoch in range(epochs):\n",
        "    for images, labels in train_loader:\n",
        "        outputs = model(images)\n",
        "        loss = criterion(outputs, labels)\n",
        "\n",
        "        optimizer.zero_grad()\n",
        "        loss.backward()\n",
        "        optimizer.step()\n",
        "\n",
        "    print(f\"Epoch [{epoch+1}/{epochs}], Loss: {loss.item():.4f}\")\n"
      ]
    },
    {
      "cell_type": "markdown",
      "metadata": {},
      "source": [
        "### Train the Model  \n",
        "\n",
        "- Run for **5 epochs** (full passes through the training set).  \n",
        "- Each step:  \n",
        "  1. Forward pass → compute predictions.  \n",
        "  2. Compute loss with `CrossEntropyLoss`.  \n",
        "  3. Backward pass → calculate gradients.  \n",
        "  4. Optimizer step → update weights.  \n",
        "- Prints loss at the end of each epoch.  \n"
      ]
    },
    {
      "cell_type": "code",
      "execution_count": 11,
      "metadata": {
        "colab": {
          "base_uri": "https://localhost:8080/"
        },
        "id": "_fE25a4WZScT",
        "outputId": "7e692d0b-0d9a-4118-cff2-a2e985af21e3"
      },
      "outputs": [
        {
          "name": "stdout",
          "output_type": "stream",
          "text": [
            "Test Accuracy: 96.83%\n"
          ]
        }
      ],
      "source": [
        "# Evaluate on test set\n",
        "correct = 0\n",
        "total = 0\n",
        "with torch.no_grad():\n",
        "    for images, labels in test_loader:\n",
        "        outputs = model(images)\n",
        "        _, predicted = torch.max(outputs, 1)\n",
        "        total += labels.size(0)\n",
        "        correct += (predicted == labels).sum().item()\n",
        "\n",
        "print(f\"Test Accuracy: {100 * correct / total:.2f}%\")\n"
      ]
    },
    {
      "cell_type": "markdown",
      "metadata": {},
      "source": [
        "### Evaluate on Test Set  \n",
        "\n",
        "- Disable gradients with `torch.no_grad()` (faster, saves memory).  \n",
        "- Get predictions using `torch.max` (highest logit = predicted class).  \n",
        "- Compare predictions with true labels to count correct cases.  \n",
        "- Compute and print overall **accuracy (%)** on test data.  \n"
      ]
    },
    {
      "cell_type": "code",
      "execution_count": 12,
      "metadata": {
        "id": "kS4lGSIXZr-I"
      },
      "outputs": [],
      "source": [
        "# Predictions on test set\n",
        "all_preds = []\n",
        "all_labels = []\n",
        "with torch.no_grad():\n",
        "    for images, labels in test_loader:\n",
        "        outputs = model(images)\n",
        "        _, predicted = torch.max(outputs, 1)\n",
        "        all_preds.extend(predicted.numpy())\n",
        "        all_labels.extend(labels.numpy())\n"
      ]
    },
    {
      "cell_type": "markdown",
      "metadata": {},
      "source": [
        "### Predictions on Test Set  \n",
        "\n",
        "- Loop through the test set without gradients.  \n",
        "- For each batch:  \n",
        "  - Get predicted class (`torch.max`).  \n",
        "  - Store predictions and true labels in lists.  \n",
        "- These will be used to build a confusion matrix and analyze performance.  \n"
      ]
    },
    {
      "cell_type": "code",
      "execution_count": null,
      "metadata": {
        "colab": {
          "base_uri": "https://localhost:8080/",
          "height": 619
        },
        "id": "lktl9OErZuCr",
        "outputId": "f3cf8747-9f7e-4daf-e13c-36f7b6d99684"
      },
      "outputs": [
        {
          "data": {
            "image/png": "[encoded data removed]",
            "text/plain": [
              "<Figure size 1000x700 with 2 Axes>"
            ]
          },
          "metadata": {},
          "output_type": "display_data"
        }
      ],
      "source": [
        "# Confusion Matrix\n",
        "from sklearn.metrics import confusion_matrix\n",
        "import seaborn as sn\n",
        "cm = confusion_matrix(all_labels, all_preds)\n",
        "\n",
        "plt.figure(figsize=(10,7))\n",
        "sn.heatmap(cm, annot=True, fmt='d')\n",
        "plt.xlabel(\"Predicted\")\n",
        "plt.ylabel(\"Truth\")\n",
        "plt.show()\n"
      ]
    },
    {
      "cell_type": "markdown",
      "metadata": {},
      "source": [
        "### Confusion Matrix  \n",
        "\n",
        "- `confusion_matrix` (from `scikit-learn`) compares true vs. predicted labels.  \n",
        "- Diagonal values = correct predictions.  \n",
        "- Off-diagonal values = misclassifications.  \n",
        "- `seaborn.heatmap` visualizes the matrix for easier interpretation.  \n"
      ]
    },
    {
      "cell_type": "code",
      "execution_count": null,
      "metadata": {
        "colab": {
          "base_uri": "https://localhost:8080/",
          "height": 213
        },
        "id": "MimgdSbsZvji",
        "outputId": "98c1e9f4-e43a-47eb-a13e-d30264ff1457"
      },
      "outputs": [
        {
          "data": {
            "image/png": "[encoded data removed]",
            "text/plain": [
              "<Figure size 1000x200 with 5 Axes>"
            ]
          },
          "metadata": {},
          "output_type": "display_data"
        }
      ],
      "source": [
        "# Show random predictions\n",
        "import random\n",
        "\n",
        "num_examples = 5\n",
        "random_indices = random.sample(range(len(test_dataset)), num_examples)\n",
        "\n",
        "plt.figure(figsize=(10, 2))\n",
        "for i, idx in enumerate(random_indices):\n",
        "    img, true_label = test_dataset[idx]\n",
        "    img_reshaped = img.squeeze()\n",
        "\n",
        "    with torch.no_grad():\n",
        "        output = model(img.unsqueeze(0))\n",
        "        pred_label = output.argmax(1).item()\n",
        "\n",
        "    plt.subplot(1, num_examples, i+1)\n",
        "    plt.imshow(img_reshaped, cmap='gray')\n",
        "    plt.title(f\"Pred: {pred_label}\\nTrue: {true_label}\")\n",
        "    plt.axis('off')\n",
        "plt.show()\n"
      ]
    },
    {
      "cell_type": "markdown",
      "metadata": {},
      "source": [
        "### Show Random Predictions  \n",
        "\n",
        "- Select 5 random images from the test set.  \n",
        "- For each image:  \n",
        "  - Run the model to get the predicted label.  \n",
        "  - Display the image with predicted vs. true label.  \n",
        "- Helps visualize model performance on unseen samples.  "
      ]
    }
  ],
  "metadata": {
    "colab": {
      "provenance": []
    },
    "kernelspec": {
      "display_name": "Python 3",
      "name": "python3"
    },
    "language_info": {
      "codemirror_mode": {
        "name": "ipython",
        "version": 3
      },
      "file_extension": ".py",
      "mimetype": "text/x-python",
      "name": "python",
      "nbconvert_exporter": "python",
      "pygments_lexer": "ipython3",
      "version": "3.13.5"
    }
  },
  "nbformat": 4,
  "nbformat_minor": 0
}
