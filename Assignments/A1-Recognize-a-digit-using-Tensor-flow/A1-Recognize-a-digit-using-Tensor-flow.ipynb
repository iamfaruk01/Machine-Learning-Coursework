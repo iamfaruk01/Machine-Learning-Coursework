{
 "cells": [
  {
   "cell_type": "code",
   "execution_count": 14,
   "id": "67b07691-58d9-4b6d-bd0e-5866e8572e4c",
   "metadata": {},
   "outputs": [],
   "source": [
    "import tensorflow as tf\n",
    "from tensorflow import keras\n",
    "import matplotlib.pyplot as plt\n",
    "%matplotlib inline\n",
    "import numpy as np"
   ]
  },
  {
   "cell_type": "markdown",
   "id": "77c9fa3d",
   "metadata": {},
   "source": [
    "- Import `TensorFlow` and `Keras` for building and training neural networks.\n",
    "- Import `Matplotlib` for visualizing data.\n",
    "- `%matplotlib inline` enables image rendering directly in Jupyter notebooks.\n",
    "- Import `NumPy` for numerical operations and array handling."
   ]
  },
  {
   "cell_type": "code",
   "execution_count": 2,
   "id": "231c8ad5-424d-43bf-aa07-764cd33fccd1",
   "metadata": {},
   "outputs": [],
   "source": [
    "# Load dataset\n",
    "(X_train, y_train), (X_test, y_test) = keras.datasets.mnist.load_data()"
   ]
  },
  {
   "cell_type": "markdown",
   "id": "5f18dcae",
   "metadata": {},
   "source": [
    "- Load the MNIST handwritten digit dataset, split into training and testing sets.\n",
    "\n",
    "- `X_train` and `X_test` contain image data\n",
    "- `y_train` and `y_test` contain corresponding labels.\n",
    "\n"
   ]
  },
  {
   "cell_type": "code",
   "execution_count": 3,
   "id": "600116c1",
   "metadata": {},
   "outputs": [
    {
     "data": {
      "text/plain": [
       "(60000, 28, 28)"
      ]
     },
     "execution_count": 3,
     "metadata": {},
     "output_type": "execute_result"
    }
   ],
   "source": [
    "X_train.shape"
   ]
  },
  {
   "cell_type": "markdown",
   "id": "a82d564b",
   "metadata": {},
   "source": [
    "- The training set has 60,000 grayscale images, each 28x28 pixels."
   ]
  },
  {
   "cell_type": "code",
   "execution_count": 4,
   "id": "05ed13c5",
   "metadata": {},
   "outputs": [
    {
     "data": {
      "text/plain": [
       "<matplotlib.image.AxesImage at 0x29077f112b0>"
      ]
     },
     "execution_count": 4,
     "metadata": {},
     "output_type": "execute_result"
    },
    {
     "data": {
      "image/png": "[encoded data removed]",
      "text/plain": [
       "<Figure size 480x480 with 1 Axes>"
      ]
     },
     "metadata": {},
     "output_type": "display_data"
    }
   ],
   "source": [
    "# Display the first training image\n",
    "# Visualize the first image from the training set as a matrix plot (a handwritten digit).\n",
    "plt.matshow(X_train[0])\n"
   ]
  },
  {
   "cell_type": "code",
   "execution_count": 5,
   "id": "be2930c9",
   "metadata": {},
   "outputs": [
    {
     "data": {
      "text/plain": [
       "array([5, 0, 4, 1, 9, 2, 1, 3, 1, 4], dtype=uint8)"
      ]
     },
     "execution_count": 5,
     "metadata": {},
     "output_type": "execute_result"
    }
   ],
   "source": [
    "# Show the first 10 labels in the training set, representing the digits in the corresponding images.\n",
    "\n",
    "y_train[:10]"
   ]
  },
  {
   "cell_type": "code",
   "execution_count": 6,
   "id": "d0d1949b",
   "metadata": {},
   "outputs": [],
   "source": [
    "# Normalize pixel values\n",
    "# Normalize pixel values from to to improve model training efficiency.\n",
    "X_train = X_train / 255\n",
    "X_test = X_test / 255\n"
   ]
  },
  {
   "cell_type": "code",
   "execution_count": 7,
   "id": "c8d24b86",
   "metadata": {},
   "outputs": [
    {
     "name": "stderr",
     "output_type": "stream",
     "text": [
      "c:\\Users\\iamfa\\AppData\\Local\\Programs\\Python\\Python313\\Lib\\site-packages\\keras\\src\\layers\\reshaping\\flatten.py:37: UserWarning: Do not pass an `input_shape`/`input_dim` argument to a layer. When using Sequential models, prefer using an `Input(shape)` object as the first layer in the model instead.\n",
      "  super().__init__(**kwargs)\n"
     ]
    }
   ],
   "source": [
    "# Model\n",
    "model = keras.Sequential([\n",
    "    keras.layers.Flatten(input_shape=(28,28)),\n",
    "    keras.layers.Dense(100, activation='relu'),\n",
    "    keras.layers.Dense(10, activation='softmax')\n",
    "])"
   ]
  },
  {
   "cell_type": "markdown",
   "id": "f48f7df6",
   "metadata": {},
   "source": [
    "Create a sequential model with:\n",
    "- Flatten layer: converts 28x28 images to 784-element vectors.\n",
    "- Dense hidden layer with 100 units and ReLU activation.\n",
    "- Output layer with 10 units and softmax activation for digit classification.\n",
    "---\n",
    "- Sequential Model: A Sequential model in Keras is a linear stack of layers where the output of one layer is the input to the next.\n",
    "- Flatten layer: The Flatten layer transforms the input data's shape without changing its values.\n",
    "- Dense Layer: Also known as a fully connected layer, it means every input neuron is connected to every neuron in this layer. The dense hidden layer acts as a feature extractor, combining and transforming input data representations for better classification.\n",
    "- Activation Function - ReLU: The ReLU function (Rectified Linear Unit) is applied to each neuron’s output. It outputs the input directly if positive; otherwise, it outputs zero.\n",
    "- Output layer: The output layer provides probabilities that the input image belongs to each digit class, allowing the model to predict the most likely digit.\n",
    "- Softmax Activation: This function converts the raw output scores from the 10 neurons into probabilities that sum to 1."
   ]
  },
  {
   "cell_type": "code",
   "execution_count": 8,
   "id": "d4764a45",
   "metadata": {},
   "outputs": [],
   "source": [
    "# Compile\n",
    "model.compile(\n",
    "    optimizer='adam',\n",
    "    loss='sparse_categorical_crossentropy',\n",
    "    metrics=['accuracy']\n",
    ")"
   ]
  },
  {
   "cell_type": "markdown",
   "id": "c2c7144d",
   "metadata": {},
   "source": [
    "Specify training configuration:\n",
    "- Optimizer: Adam for adaptive learning.\n",
    "- Loss: Sparse categorical cross-entropy for multi-class classification.\n",
    "- Metric: Accuracy to evaluate performance during training.\n",
    "---\n",
    "- Optimizer: Adam is an adaptive learning rate optimization algorithm that adjusts the learning rate dynamically during training. Adam helps the model converge faster and often leads to better performance.\n",
    "\n",
    "- Loss: Sparse Categorical Cross-Entropy loss function is used for multi-class classification problems where the labels are provided as integers. It measures the difference between the true label and the predicted probability distribution over classes.\n",
    "\n",
    "- Metric: Accuracy is a simple evaluation metric that tracks the proportion of correct predictions during training and evaluation. It helps you monitor how well your model is performing in terms of classifying the images correctly as training progresses."
   ]
  },
  {
   "cell_type": "code",
   "execution_count": 9,
   "id": "55d3a24e",
   "metadata": {},
   "outputs": [
    {
     "name": "stdout",
     "output_type": "stream",
     "text": [
      "Epoch 1/5\n",
      "\u001b[1m1875/1875\u001b[0m \u001b[32m━━━━━━━━━━━━━━━━━━━━\u001b[0m\u001b[37m\u001b[0m \u001b[1m3s\u001b[0m 1ms/step - accuracy: 0.9201 - loss: 0.2780\n",
      "Epoch 2/5\n",
      "\u001b[1m1875/1875\u001b[0m \u001b[32m━━━━━━━━━━━━━━━━━━━━\u001b[0m\u001b[37m\u001b[0m \u001b[1m3s\u001b[0m 1ms/step - accuracy: 0.9623 - loss: 0.1268\n",
      "Epoch 3/5\n",
      "\u001b[1m1875/1875\u001b[0m \u001b[32m━━━━━━━━━━━━━━━━━━━━\u001b[0m\u001b[37m\u001b[0m \u001b[1m3s\u001b[0m 1ms/step - accuracy: 0.9732 - loss: 0.0896\n",
      "Epoch 4/5\n",
      "\u001b[1m1875/1875\u001b[0m \u001b[32m━━━━━━━━━━━━━━━━━━━━\u001b[0m\u001b[37m\u001b[0m \u001b[1m3s\u001b[0m 1ms/step - accuracy: 0.9796 - loss: 0.0671\n",
      "Epoch 5/5\n",
      "\u001b[1m1875/1875\u001b[0m \u001b[32m━━━━━━━━━━━━━━━━━━━━\u001b[0m\u001b[37m\u001b[0m \u001b[1m3s\u001b[0m 1ms/step - accuracy: 0.9837 - loss: 0.0529\n"
     ]
    },
    {
     "data": {
      "text/plain": [
       "<keras.src.callbacks.history.History at 0x2907b455fd0>"
      ]
     },
     "execution_count": 9,
     "metadata": {},
     "output_type": "execute_result"
    }
   ],
   "source": [
    "# Train\n",
    "model.fit(X_train, y_train, epochs=5)"
   ]
  },
  {
   "cell_type": "markdown",
   "id": "1937177d",
   "metadata": {},
   "source": [
    "- Train the model on the training data for 5 epochs (full passes over the dataset).\n",
    "- An epoch refers to one complete pass through the entire training dataset. When we train a model for 5 epochs, it means the model has seen and learned from the whole training dataset 5 times.\n",
    "- The output shows accuracy and loss improvements during training."
   ]
  },
  {
   "cell_type": "code",
   "execution_count": 10,
   "id": "3500ab9d",
   "metadata": {},
   "outputs": [
    {
     "name": "stdout",
     "output_type": "stream",
     "text": [
      "\u001b[1m313/313\u001b[0m \u001b[32m━━━━━━━━━━━━━━━━━━━━\u001b[0m\u001b[37m\u001b[0m \u001b[1m0s\u001b[0m 1ms/step - accuracy: 0.9748 - loss: 0.0816\n"
     ]
    },
    {
     "data": {
      "text/plain": [
       "[0.08160300552845001, 0.9747999906539917]"
      ]
     },
     "execution_count": 10,
     "metadata": {},
     "output_type": "execute_result"
    }
   ],
   "source": [
    "# Evaluate\n",
    "model.evaluate(X_test, y_test)\n"
   ]
  },
  {
   "cell_type": "markdown",
   "id": "8f295057",
   "metadata": {},
   "source": [
    "- Test the trained model on unseen test data.\n",
    "- Returns loss and accuracy (97.46% accuracy)."
   ]
  },
  {
   "cell_type": "code",
   "execution_count": 11,
   "id": "9e336ebf",
   "metadata": {},
   "outputs": [
    {
     "name": "stdout",
     "output_type": "stream",
     "text": [
      "\u001b[1m313/313\u001b[0m \u001b[32m━━━━━━━━━━━━━━━━━━━━\u001b[0m\u001b[37m\u001b[0m \u001b[1m0s\u001b[0m 810us/step\n"
     ]
    }
   ],
   "source": [
    "# Predict labels for test set\n",
    "y_predicted = model.predict(X_test)\n",
    "y_predicted_labels = [np.argmax(i) for i in y_predicted]"
   ]
  },
  {
   "cell_type": "markdown",
   "id": "d2bedf83",
   "metadata": {},
   "source": [
    "- Predict probabilities for each digit class on the test images.\n",
    "- Extract predicted digit labels by taking the class with highest probability."
   ]
  },
  {
   "cell_type": "code",
   "execution_count": 12,
   "id": "edc4139a",
   "metadata": {},
   "outputs": [
    {
     "data": {
      "text/plain": [
       "<tf.Tensor: shape=(10, 10), dtype=int32, numpy=\n",
       "array([[ 961,    0,    4,    1,    1,    4,    3,    2,    1,    3],\n",
       "       [   0, 1126,    4,    0,    0,    1,    2,    1,    1,    0],\n",
       "       [   3,    2, 1016,    1,    1,    0,    1,    6,    1,    1],\n",
       "       [   0,    0,    5,  987,    0,    7,    0,    3,    4,    4],\n",
       "       [   0,    2,    5,    1,  946,    2,    6,    1,    1,   18],\n",
       "       [   2,    0,    0,    6,    1,  876,    4,    1,    1,    1],\n",
       "       [   0,    3,    3,    1,    2,    3,  944,    0,    2,    0],\n",
       "       [   2,    6,    9,    2,    0,    0,    0, 1003,    1,    5],\n",
       "       [   5,    3,    7,    7,    3,   13,    2,   10,  917,    7],\n",
       "       [   3,    7,    0,    8,    4,    4,    1,   10,    0,  972]],\n",
       "      dtype=int32)>"
      ]
     },
     "execution_count": 12,
     "metadata": {},
     "output_type": "execute_result"
    }
   ],
   "source": [
    "# Generate confusion matrix to analyze prediction errors\n",
    "cm = tf.math.confusion_matrix(labels=y_test, predictions=y_predicted_labels)\n",
    "cm"
   ]
  },
  {
   "cell_type": "markdown",
   "id": "d5980462",
   "metadata": {},
   "source": [
    "- Compute confusion matrix: compares true labels with predicted labels for all digits.\n",
    "- Matrix values on the diagonal are correct predictions\n",
    "- Off-diagonal values reveal confusions."
   ]
  },
  {
   "cell_type": "code",
   "execution_count": 13,
   "id": "bd7d3b44",
   "metadata": {},
   "outputs": [
    {
     "data": {
      "image/png": "[encoded data removed]",
      "text/plain": [
       "<Figure size 1000x700 with 2 Axes>"
      ]
     },
     "metadata": {},
     "output_type": "display_data"
    }
   ],
   "source": [
    "# Plot confusion matrix\n",
    "import seaborn as sn\n",
    "plt.figure(figsize=(10,7))\n",
    "sn.heatmap(cm, annot=True, fmt='d')\n",
    "plt.xlabel('Predicted')\n",
    "plt.ylabel('Truth')\n",
    "plt.show()"
   ]
  }
 ],
 "metadata": {
  "kernelspec": {
   "display_name": "Python 3",
   "language": "python",
   "name": "python3"
  },
  "language_info": {
   "codemirror_mode": {
    "name": "ipython",
    "version": 3
   },
   "file_extension": ".py",
   "mimetype": "text/x-python",
   "name": "python",
   "nbconvert_exporter": "python",
   "pygments_lexer": "ipython3",
   "version": "3.13.5"
  }
 },
 "nbformat": 4,
 "nbformat_minor": 5
}
